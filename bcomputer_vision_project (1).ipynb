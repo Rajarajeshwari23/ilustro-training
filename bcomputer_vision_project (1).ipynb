{
  "nbformat": 4,
  "nbformat_minor": 0,
  "metadata": {
    "colab": {
      "provenance": []
    },
    "kernelspec": {
      "name": "python3",
      "display_name": "Python 3"
    },
    "language_info": {
      "name": "python"
    }
  },
  "cells": [
    {
      "cell_type": "code",
      "execution_count": 2,
      "metadata": {
        "colab": {
          "base_uri": "https://localhost:8080/"
        },
        "id": "uRTOkByDkqtM",
        "outputId": "5f4758b0-32bc-4131-ba6e-ec99356dac92"
      },
      "outputs": [
        {
          "output_type": "stream",
          "name": "stdout",
          "text": [
            "Requirement already satisfied: opencv-python in /usr/local/lib/python3.10/dist-packages (4.10.0.84)\n",
            "Requirement already satisfied: numpy>=1.21.2 in /usr/local/lib/python3.10/dist-packages (from opencv-python) (1.26.4)\n"
          ]
        }
      ],
      "source": [
        " pip install opencv-python"
      ]
    },
    {
      "cell_type": "code",
      "source": [
        "image = cv2.imread('pomeranian-1.webp')\n",
        "cv2.imshow('original Image',image)\n",
        "gray_image = cv2.cvtcolor(image, cvtColor(image, cv2.COLOR_BGR2GAY)\n",
        "cv2.imshow('Grayscale Image',gray_image)\n",
        "cv2.imwrite('gray_image.jpg',gray_image)\n",
        "cv2.waitkey(0)\n",
        "cv2.destroyAllwindos()\n"
      ],
      "metadata": {
        "id": "bkx5DR4MlLBn"
      },
      "execution_count": null,
      "outputs": []
    }
  ]
}